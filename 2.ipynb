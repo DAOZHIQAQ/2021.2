{
 "cells": [
  {
   "cell_type": "code",
   "execution_count": 7,
   "metadata": {},
   "outputs": [
    {
     "name": "stdout",
     "output_type": "stream",
     "text": [
      "2.png\n",
      "W549\n",
      "\f",
      "\n"
     ]
    }
   ],
   "source": [
    "from random import randint\n",
    "import pytesseract\n",
    "from PIL import Image\n",
    "picName=str(randint(0,9))+'.png'\n",
    "print(picName)\n",
    "image=Image.open('images/'+picName)\n",
    "text=pytesseract.image_to_string(image)\n",
    "print(text)"
   ]
  },
  {
   "cell_type": "code",
   "execution_count": 10,
   "metadata": {},
   "outputs": [
    {
     "name": "stdout",
     "output_type": "stream",
     "text": [
      " \n",
      "\n",
      "相 思\n",
      "【 清 】 纳 兰 性 德\n",
      "山 一 程 , 水 一 程 。 身 向 榆\n",
      "关那畔行′ 夜 深 千 帐 灯 。\n",
      "一 更 , 雪 一 更 。 聘 碎 乡\n",
      "心梦不成】 故 园 无 此 声 。\n",
      "\n",
      " \n",
      "\f",
      "\n"
     ]
    }
   ],
   "source": [
    "import pytesseract\n",
    "from PIL import Image\n",
    "image=Image.open('images/'+'ts.jpeg')\n",
    "text=pytesseract.image_to_string(image,lang='chi_sim')\n",
    "print(text)"
   ]
  },
  {
   "cell_type": "code",
   "execution_count": 15,
   "metadata": {
    "scrolled": true
   },
   "outputs": [
    {
     "name": "stdout",
     "output_type": "stream",
     "text": [
      " \n",
      "\n",
      "X 国 G 许 dCJ 二 St0 tI\n",
      "\n",
      "壬\n",
      "志\n",
      "\n",
      " \n",
      "\n",
      "符 1 行 符 2 刑 5008% Wiodows CRip UnFs\n",
      "\n",
      " \n",
      "\f",
      "\n"
     ]
    }
   ],
   "source": [
    "import pytesseract\n",
    "from PIL import Image\n",
    "image=Image.open('images/'+'02.png')\n",
    "text=pytesseract.image_to_string(image,lang='chi_sim')\n",
    "print(text)"
   ]
  },
  {
   "cell_type": "code",
   "execution_count": 28,
   "metadata": {},
   "outputs": [
    {
     "name": "stdout",
     "output_type": "stream",
     "text": [
      "{'_site_id_cookie': '1', ' JSESSIONID': 'D9DCE5DB64E886961DB44DBF44C45000', ' clientlanguage': 'zh_CN', ' uniqueVisitorId': '733d43ce-1ca3-7c11-6ba5-860df6448fd6'}\n",
      "osns\n",
      "\f",
      "\n",
      "请输入验证码：osns\n",
      "你输入的验证码正确是：osns\n"
     ]
    }
   ],
   "source": [
    "import pytesseract\n",
    "import requests\n",
    "from PIL import Image\n",
    "headers={'User-Agent': 'Mozilla/5.0 (Windows NT 10.0; Win64; x64) AppleWebKit/537.36 (KHTML, like Gecko) Chrome/93.0.4577.82 Safari/537.36'}\n",
    "url='https://www.tipdm.org/captcha.svl'\n",
    "cookie=\"_site_id_cookie=1; JSESSIONID=D9DCE5DB64E886961DB44DBF44C45000; clientlanguage=zh_CN; uniqueVisitorId=733d43ce-1ca3-7c11-6ba5-860df6448fd6\"\n",
    "\n",
    "cookies={}\n",
    "for line in cookie.split(\";\"):\n",
    "    key,value=line.split(\"=\",1)\n",
    "    cookies[key]=value\n",
    "print(cookies)\n",
    "response=requests.get(url,headers=headers,cookies=cookies)\n",
    "with open('captcha.gif','wb') as f:\n",
    "    f.write(response.content)\n",
    "\n",
    "im=Image.open('captcha.gif')\n",
    "im.show()\n",
    "text=pytesseract.image_to_string(im)\n",
    "print(text)\n",
    "captcha=input('请输入验证码：')\n",
    "if text.strip()==captcha.strip():\n",
    "    print(\"你输入的验证码正确是：\"+captcha)\n",
    "else:\n",
    "    print(\"你输入的验证码不一样\")"
   ]
  },
  {
   "cell_type": "code",
   "execution_count": null,
   "metadata": {},
   "outputs": [],
   "source": []
  }
 ],
 "metadata": {
  "kernelspec": {
   "display_name": "Python 3",
   "language": "python",
   "name": "python3"
  },
  "language_info": {
   "codemirror_mode": {
    "name": "ipython",
    "version": 3
   },
   "file_extension": ".py",
   "mimetype": "text/x-python",
   "name": "python",
   "nbconvert_exporter": "python",
   "pygments_lexer": "ipython3",
   "version": "3.8.3"
  }
 },
 "nbformat": 4,
 "nbformat_minor": 4
}
